{
  "nbformat": 4,
  "nbformat_minor": 0,
  "metadata": {
    "colab": {
      "provenance": [],
      "authorship_tag": "ABX9TyOneF4dXASzNvLPuzWdlknr",
      "include_colab_link": true
    },
    "kernelspec": {
      "name": "python3",
      "display_name": "Python 3"
    },
    "language_info": {
      "name": "python"
    }
  },
  "cells": [
    {
      "cell_type": "markdown",
      "metadata": {
        "id": "view-in-github",
        "colab_type": "text"
      },
      "source": [
        "<a href=\"https://colab.research.google.com/github/RodgelineBansaganBSIT2B/Bansagan-Rodgeline-and-Simbanagan-Jonnerey-Activity-1-/blob/main/LabActivity3_1_BANSAGAN.ipynb\" target=\"_parent\"><img src=\"https://colab.research.google.com/assets/colab-badge.svg\" alt=\"Open In Colab\"/></a>"
      ]
    },
    {
      "cell_type": "code",
      "execution_count": 1,
      "metadata": {
        "id": "Ezk48T0p6ifF",
        "colab": {
          "base_uri": "https://localhost:8080/"
        },
        "outputId": "46f3c059-491f-44fa-8cb1-5d483cc096c3"
      },
      "outputs": [
        {
          "output_type": "stream",
          "name": "stdout",
          "text": [
            "Mounted at /content/drive\n"
          ]
        }
      ],
      "source": [
        "from google.colab import drive\n",
        "drive.mount('/content/drive')"
      ]
    },
    {
      "cell_type": "markdown",
      "source": [
        "*A flight data warehouse for a travel agent consists of six dimensions: *\n",
        "*traveller, departure (city), departure time, arrival, arrival time, and flight; and two measures count, and avg fare where avg fare stores the concrete fare at the lowest level but average fare at other levels.*\n",
        "\n",
        "**(a) Suppose the cube is fully materialized. Starting with the base cuboid [traveller, departure, departure time, arrival, arrival time, flight], what specific OLAP operations (e.g. roll-up flight to airline) should one perform in order to list the average fare per month for each business traveller who flies Philippine Airlines (PA) from Davao City to Manila in the year 2023?**"
      ],
      "metadata": {
        "id": "4w5YFXcr719S"
      }
    },
    {
      "cell_type": "code",
      "source": [
        "import pandas as pd\n",
        "\n",
        "# Updated data with 10 travelers and fares above 5000\n",
        "data = {\n",
        "    'traveller': ['Jack', 'Olivia', 'Charlie', 'Olivia', 'Jack', 'Sophia', 'Daniel', 'Emily', 'Matthew', 'Lucy'],\n",
        "    'departure_city': ['Davao', 'Davao', 'Davao', 'Davao', 'Davao', 'Davao', 'Davao', 'Davao', 'Davao', 'Davao'],\n",
        "    'departure_time': ['2023-01-15', '2023-02-20', '2023-03-10', '2023-04-05', '2023-05-12', '2023-06-18', '2023-07-25', '2023-08-30', '2023-09-10', '2023-10-05'],\n",
        "    'arrival_city': ['Manila', 'Manila', 'Manila', 'Manila', 'Manila', 'Manila', 'Manila', 'Manila', 'Manila', 'Manila'],\n",
        "    'arrival_time': ['2023-01-16', '2023-02-21', '2023-03-11', '2023-04-06', '2023-05-13', '2023-06-19', '2023-07-26', '2023-08-31', '2023-09-11', '2023-10-06'],\n",
        "    'flight': ['PA101', 'PA102', 'PA103', 'PB201', 'PA104', 'PA105', 'PA106', 'PA107', 'PA108', 'PA109'],\n",
        "    'count': [1, 1, 1, 1, 1, 1, 1, 1, 1, 1],\n",
        "    'fare': [5200, 5100, 5300, 5400, 5500, 5600, 5700, 5800, 5900, 6000]\n",
        "}\n",
        "\n",
        "# Create a DataFrame from the data\n",
        "df = pd.DataFrame(data)\n",
        "\n",
        "# Step 1: Filter the data\n",
        "filtered_df = df[(df['departure_city'] == 'Davao') &\n",
        "                 (df['arrival_city'] == 'Manila') &\n",
        "                 (df['flight'].str.startswith('PA')) &\n",
        "                 (df['departure_time'].str.startswith('2023'))]\n",
        "\n",
        "# Step 2: Optionally roll-up (assuming flight dimension is already rolled up)\n",
        "# Step 3: Drill-down to month level\n",
        "filtered_df['departure_month'] = pd.to_datetime(filtered_df['departure_time']).dt.to_period('M')\n",
        "\n",
        "# Step 4: Group-by traveller dimension\n",
        "grouped_df = filtered_df.groupby(['traveller', 'departure_month'])\n",
        "\n",
        "# Step 5: Aggregate to calculate average fare\n",
        "result = grouped_df['fare'].mean().reset_index()\n",
        "\n",
        "print(result)\n"
      ],
      "metadata": {
        "colab": {
          "base_uri": "https://localhost:8080/"
        },
        "id": "mtaLNr_m8ATp",
        "outputId": "6409a2dc-988a-4e75-d9f2-4a572a4baa8c"
      },
      "execution_count": 2,
      "outputs": [
        {
          "output_type": "stream",
          "name": "stdout",
          "text": [
            "  traveller departure_month    fare\n",
            "0   Charlie         2023-03  5300.0\n",
            "1    Daniel         2023-07  5700.0\n",
            "2     Emily         2023-08  5800.0\n",
            "3      Jack         2023-01  5200.0\n",
            "4      Jack         2023-05  5500.0\n",
            "5      Lucy         2023-10  6000.0\n",
            "6   Matthew         2023-09  5900.0\n",
            "7    Olivia         2023-02  5100.0\n",
            "8    Sophia         2023-06  5600.0\n"
          ]
        },
        {
          "output_type": "stream",
          "name": "stderr",
          "text": [
            "<ipython-input-2-4ceed6e2cf9c>:26: SettingWithCopyWarning: \n",
            "A value is trying to be set on a copy of a slice from a DataFrame.\n",
            "Try using .loc[row_indexer,col_indexer] = value instead\n",
            "\n",
            "See the caveats in the documentation: https://pandas.pydata.org/pandas-docs/stable/user_guide/indexing.html#returning-a-view-versus-a-copy\n",
            "  filtered_df['departure_month'] = pd.to_datetime(filtered_df['departure_time']).dt.to_period('M')\n"
          ]
        }
      ]
    },
    {
      "cell_type": "markdown",
      "source": [
        "**(b) Suppose we want to compute a data cube where the conditions is that the minimum number of records is 10 and the average fare is over Php 5,000.00. Outline an efficient cube computation method (based on common sense about flight data distribution).**"
      ],
      "metadata": {
        "id": "XLwOR_OG8Vfv"
      }
    },
    {
      "cell_type": "code",
      "source": [
        "# Step 1: Filtering\n",
        "filtered_data = df[df['fare'] > 5000]\n",
        "\n",
        "# Step 2: Grouping\n",
        "grouped_data = filtered_data.groupby(['departure_city', 'arrival_city'])\n",
        "\n",
        "# Step 3: Aggregation\n",
        "aggregated_data = grouped_data.agg({'count': 'sum', 'fare': 'mean'}).reset_index()\n",
        "\n",
        "# Step 4: Pruning\n",
        "pruned_data = aggregated_data[aggregated_data['count'] >= 10]\n",
        "\n",
        "# Step 5: Cube Formation\n",
        "cube = pruned_data.pivot_table(index='departure_city', columns='arrival_city', values='fare')\n",
        "\n",
        "print(\"Cube:\")\n",
        "print(cube)"
      ],
      "metadata": {
        "colab": {
          "base_uri": "https://localhost:8080/"
        },
        "id": "OpN_YpBL8XtU",
        "outputId": "a562f410-7583-40c1-e141-feb57eb03b1a"
      },
      "execution_count": 3,
      "outputs": [
        {
          "output_type": "stream",
          "name": "stdout",
          "text": [
            "Cube:\n",
            "arrival_city    Manila\n",
            "departure_city        \n",
            "Davao           5550.0\n"
          ]
        }
      ]
    }
  ]
}